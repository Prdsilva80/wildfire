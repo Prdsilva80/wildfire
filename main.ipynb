{
 "cells": [
  {
   "cell_type": "code",
   "execution_count": null,
   "metadata": {},
   "outputs": [],
   "source": [
    "import pandas as pd\n",
    "import matplotlib.pyplot as plt\n",
    "import seaborn as sns\n",
    "\n",
    "# Carregar o dataset (substitua 'wildfires.csv' pelo caminho do seu arquivo)\n",
    "df = pd.read_csv('./assets/areaburntbywildfiresbyweeknew.csv')\n",
    "\n",
    "# Visualize as primeiras linhas do dataset\n",
    "print(df.head())\n",
    "\n",
    "# Substitua espaços em branco nos nomes das colunas\n",
    "df.columns = df.columns.str.strip()"
   ]
  },
  {
   "cell_type": "code",
   "execution_count": null,
   "metadata": {},
   "outputs": [],
   "source": [
    "# 1. Análise da área queimada total por ano (usando apenas os anos disponíveis)\n",
    "anos = ['area burnt by wildfires in 2024', 'burnt by wildfires in 2023', \n",
    "        'burnt by wildfires in 2022', 'burnt by wildfires in 2021', \n",
    "        'burnt by wildfires in 2020', 'area burnt by wildfires in 2019', \n",
    "        'a burnt by wildfires in 2018', 'area burnt by wildfires in 2017', \n",
    "        'area burnt by wildfires in 2016', 'area burnt by wildfires in 2015', \n",
    "        'area burnt by wildfires in 2014', 'area burnt by wildfires in 2013', \n",
    "        'area burnt by wildfires in 2012']\n",
    "\n",
    "# Limpe os nomes das colunas (para remover espaços extras)\n",
    "df.columns = df.columns.str.strip()\n",
    "\n",
    "# Calcular a área queimada total para cada ano\n",
    "total_area_queimada = df[anos].sum()\n",
    "\n",
    "# Criar um DataFrame para facilitar a visualização\n",
    "df_area_queimada = pd.DataFrame({\n",
    "    'Ano': [int(col[-4:]) for col in anos],  # Extrai os anos dos nomes das colunas\n",
    "    'Área Queimada (hectares)': total_area_queimada.values\n",
    "})\n",
    "\n",
    "# Ordenar os dados pelo ano\n",
    "df_area_queimada = df_area_queimada.sort_values('Ano')"
   ]
  },
  {
   "cell_type": "code",
   "execution_count": null,
   "metadata": {},
   "outputs": [],
   "source": [
    "# Plotar a área queimada total por ano\n",
    "plt.figure(figsize=(10, 6))\n",
    "sns.barplot(x='Ano', y='Área Queimada (hectares)', data=df_area_queimada, palette='viridis')\n",
    "plt.title('Área Queimada Total por Ano')\n",
    "plt.xlabel('Ano')\n",
    "plt.ylabel('Área Queimada (hectares)')\n",
    "plt.xticks(rotation=45)\n",
    "plt.show()"
   ]
  },
  {
   "cell_type": "code",
   "execution_count": null,
   "metadata": {},
   "outputs": [],
   "source": [
    "# Plotar a distribuição da área queimada por ano\n",
    "plt.figure(figsize=(10, 6))\n",
    "sns.boxplot(data=df[anos], palette='viridis')\n",
    "plt.title('Distribuição da Área Queimada por Ano')\n",
    "plt.xlabel('Ano')\n",
    "plt.ylabel('Área Queimada (hectares)')\n",
    "plt.xticks(ticks=range(len(anos)), labels=[col[-4:] for col in anos], rotation=45)\n",
    "plt.show()"
   ]
  },
  {
   "cell_type": "code",
   "execution_count": null,
   "metadata": {},
   "outputs": [],
   "source": [
    "# Plotar a tendência da área queimada ao longo dos anos\n",
    "plt.figure(figsize=(10, 6))\n",
    "sns.lineplot(x='Ano', y='Área Queimada (hectares)', data=df_area_queimada, marker='o', palette='viridis')\n",
    "plt.title('Tendência da Área Queimada ao Longo dos Anos')\n",
    "plt.xlabel('Ano')\n",
    "plt.ylabel('Área Queimada (hectares)')\n",
    "plt.xticks(rotation=45)\n",
    "plt.show()"
   ]
  }
 ],
 "metadata": {
  "kernelspec": {
   "display_name": "Python 3",
   "language": "python",
   "name": "python3"
  },
  "language_info": {
   "codemirror_mode": {
    "name": "ipython",
    "version": 3
   },
   "file_extension": ".py",
   "mimetype": "text/x-python",
   "name": "python",
   "nbconvert_exporter": "python",
   "pygments_lexer": "ipython3",
   "version": "3.12.3"
  }
 },
 "nbformat": 4,
 "nbformat_minor": 2
}
